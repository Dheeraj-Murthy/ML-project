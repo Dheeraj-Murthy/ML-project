{
 "cells": [
  {
   "cell_type": "markdown",
   "id": "99fafd9c",
   "metadata": {},
   "source": [
    "# Model Execution Report"
   ]
  },
  {
   "cell_type": "markdown",
   "id": "61b8fbcf",
   "metadata": {},
   "source": [
    "## Running model_adaboost"
   ]
  },
  {
   "cell_type": "code",
   "execution_count": 127,
   "id": "e0ebcd4b",
   "metadata": {
    "execution": {
     "iopub.execute_input": "2025-10-24T15:24:50.102233Z",
     "iopub.status.busy": "2025-10-24T15:24:50.101883Z",
     "iopub.status.idle": "2025-10-24T15:25:44.705007Z",
     "shell.execute_reply": "2025-10-24T15:25:44.704452Z"
    }
   },
   "outputs": [
    {
     "name": "stderr",
     "output_type": "stream",
     "text": [
      "6447.90s - pydevd: Sending message related to process being replaced timed-out after 5 seconds\n"
     ]
    },
    {
     "name": "stdout",
     "output_type": "stream",
     "text": [
      "Successfully loaded preprocessor from /Users/dheerajmurthy/Downloads/IIITB/sem6/ML/contest_project/Adaboost/../PreProcessing/fitted_preprocessor.joblib.\n",
      "\n",
      "--- Model Training & Evaluation (AdaBoost Regressor) ---\n",
      "Validation R-squared (Log-transformed): 0.8637\n",
      "Validation Mean Squared Error (Log-transformed): 0.0210\n",
      "Validation RMSE (Original Scale): 33193.7882\n",
      "\n",
      "Fitting final production model on ALL training data...\n",
      "Final trained AdaBoost model saved to 'fitted_adaboost_model.joblib'.\n",
      "\n",
      "Submission file 'submission_adaboost.csv' created successfully in the adaboost folder.\n"
     ]
    }
   ],
   "source": [
    "!python Adaboost/model_adaboost.py"
   ]
  },
  {
   "cell_type": "markdown",
   "id": "3b62f7db",
   "metadata": {},
   "source": [
    "## Running model_catboost"
   ]
  },
  {
   "cell_type": "code",
   "execution_count": 128,
   "id": "5ba1a197",
   "metadata": {
    "execution": {
     "iopub.execute_input": "2025-10-24T15:25:44.707605Z",
     "iopub.status.busy": "2025-10-24T15:25:44.707314Z",
     "iopub.status.idle": "2025-10-24T15:25:49.058711Z",
     "shell.execute_reply": "2025-10-24T15:25:49.058298Z"
    }
   },
   "outputs": [
    {
     "name": "stderr",
     "output_type": "stream",
     "text": [
      "6457.48s - pydevd: Sending message related to process being replaced timed-out after 5 seconds\n"
     ]
    },
    {
     "name": "stdout",
     "output_type": "stream",
     "text": [
      "Best iteration: 843\n",
      "Best score (R2): 0.8997194906482302\n",
      "Training R-squared: 0.9817611253793083\n",
      "Validation R-squared: 0.8997194906482302\n",
      "Validation Mean Squared Error: 702458130.0374783\n",
      "Submission file 'submission_catboost.csv' created successfully.\n"
     ]
    }
   ],
   "source": [
    "!python catboost/model_catboost.py"
   ]
  },
  {
   "cell_type": "markdown",
   "id": "0bf4a96d",
   "metadata": {},
   "source": [
    "## Running model_full_linear"
   ]
  },
  {
   "cell_type": "code",
   "execution_count": 129,
   "id": "274d2cf0",
   "metadata": {
    "execution": {
     "iopub.execute_input": "2025-10-24T15:25:49.060830Z",
     "iopub.status.busy": "2025-10-24T15:25:49.060651Z",
     "iopub.status.idle": "2025-10-24T15:25:50.820439Z",
     "shell.execute_reply": "2025-10-24T15:25:50.820009Z"
    }
   },
   "outputs": [
    {
     "name": "stderr",
     "output_type": "stream",
     "text": [
      "6473.70s - pydevd: Sending message related to process being replaced timed-out after 5 seconds\n"
     ]
    },
    {
     "name": "stdout",
     "output_type": "stream",
     "text": [
      "\n",
      "Starting preprocessing steps...\n",
      "Successfully loaded preprocessor from /Users/dheerajmurthy/Downloads/IIITB/sem6/ML/contest_project/Linear_Regression/../PreProcessing/fitted_preprocessor.joblib.\n",
      "Data ready. Training data shape: (1195, 292), Test data shape: (260, 292)\n",
      "\n",
      "--- Model Training & Evaluation (Standard Linear Regression / OLS) ---\n",
      "Validation R-squared (Log-transformed): 0.9001\n",
      "Validation Mean Squared Error (Log-transformed): 0.0154\n",
      "Validation RMSE (Original Scale): 21327.4612\n",
      "\n",
      "Fitting final production model on ALL training data...\n",
      "Final trained Linear Regression model saved to 'fitted_linear_model.joblib'.\n",
      "\n",
      "Generating predictions using the final production model...\n",
      "\n",
      "Submission file 'submission_linear_regression.csv' created successfully.\n",
      "\n",
      "First 5 predictions in the submission file:\n",
      "     Id     HotelValue\n",
      "0   893  154007.865032\n",
      "1  1106  332033.404077\n",
      "2   414  102279.367451\n",
      "3   523  166765.800440\n",
      "4  1037  308502.381960\n"
     ]
    }
   ],
   "source": [
    "!python Linear_Regression/model_full_linear.py"
   ]
  },
  {
   "cell_type": "markdown",
   "id": "6fa2d2f4",
   "metadata": {},
   "source": [
    "## Running Polynomial Regression"
   ]
  },
  {
   "cell_type": "code",
   "execution_count": 145,
   "id": "e0e4d12d",
   "metadata": {},
   "outputs": [
    {
     "name": "stderr",
     "output_type": "stream",
     "text": [
      "9702.61s - pydevd: Sending message related to process being replaced timed-out after 5 seconds\n"
     ]
    },
    {
     "name": "stdout",
     "output_type": "stream",
     "text": [
      "\n",
      "Starting preprocessing steps for Polynomial Regression...\n",
      "Successfully loaded preprocessor from /Users/dheerajmurthy/Downloads/IIITB/sem6/ML/contest_project/PolyRegression/../fitted_preprocessor.joblib.\n",
      "Generating polynomial features with degree 2...\n",
      "Data ready. Training data shape: (1195, 47277), Test data shape: (260, 47277)\n",
      "\n",
      "--- Model Training & Evaluation (Polynomial Regression) ---\n",
      "Validation R-squared (Log-transformed): 0.8629\n",
      "Validation Mean Squared Error (Log-transformed): 0.0212\n",
      "Validation RMSE (Original Scale): 30305.0170\n",
      "\n",
      "Fitting final production model on ALL training data...\n",
      "Final trained Polynomial Regression model saved to 'fitted_poly_model.joblib'.\n",
      "\n",
      "Generating predictions using the final production model...\n",
      "\n",
      "Submission file 'submission_poly.csv' created successfully.\n",
      "\n",
      "First 5 predictions in the submission file:\n",
      "     Id     HotelValue\n",
      "0   893  162190.953399\n",
      "1  1106  303733.711657\n",
      "2   414   96402.239704\n",
      "3   523  160159.972550\n",
      "4  1037  359519.722802\n"
     ]
    }
   ],
   "source": [
    "!python PolyRegression/poly_model.py"
   ]
  },
  {
   "cell_type": "markdown",
   "id": "125784c3",
   "metadata": {},
   "source": [
    "## Running model_random_forest"
   ]
  },
  {
   "cell_type": "code",
   "execution_count": 130,
   "id": "a15eeffb",
   "metadata": {
    "execution": {
     "iopub.execute_input": "2025-10-24T15:25:50.822758Z",
     "iopub.status.busy": "2025-10-24T15:25:50.822566Z",
     "iopub.status.idle": "2025-10-24T15:25:52.684011Z",
     "shell.execute_reply": "2025-10-24T15:25:52.683540Z"
    }
   },
   "outputs": [
    {
     "name": "stderr",
     "output_type": "stream",
     "text": [
      "6480.85s - pydevd: Sending message related to process being replaced timed-out after 5 seconds\n"
     ]
    },
    {
     "name": "stdout",
     "output_type": "stream",
     "text": [
      "\n",
      "Starting preprocessing steps...\n",
      "Successfully loaded preprocessor from /Users/dheerajmurthy/Downloads/IIITB/sem6/ML/contest_project/Random_Forest/../PreProcessing/../PreProcessing/fitted_preprocessor.joblib.\n",
      "Data ready. Training data shape: (1195, 292), Test data shape: (260, 292)\n",
      "\n",
      "--- Model Training & Evaluation (Random Forest Regressor) ---\n",
      "Validation R-squared (Log-transformed): 0.8845\n",
      "Validation Mean Squared Error (Log-transformed): 0.0178\n",
      "Validation RMSE (Original Scale): 29172.5898\n",
      "\n",
      "Fitting final production model on ALL training data...\n",
      "Final trained Random Forest model saved to 'fitted_random_forest_model.joblib'.\n",
      "\n",
      "Generating predictions using the final production model...\n",
      "\n",
      "Submission file 'submission_random_forest.csv' created successfully.\n",
      "\n",
      "First 5 predictions in the submission file:\n",
      "     Id     HotelValue\n",
      "0   893  139509.865958\n",
      "1  1106  318390.673323\n",
      "2   414  112571.281895\n",
      "3   523  153673.953505\n",
      "4  1037  307826.467883\n"
     ]
    }
   ],
   "source": [
    "!python Random_Forest/model_random_forest.py"
   ]
  },
  {
   "cell_type": "markdown",
   "id": "99f15143",
   "metadata": {},
   "source": [
    "## Running model_regularized_least_square_Lasso"
   ]
  },
  {
   "cell_type": "code",
   "execution_count": 131,
   "id": "d039382d",
   "metadata": {
    "execution": {
     "iopub.execute_input": "2025-10-24T15:25:52.692592Z",
     "iopub.status.busy": "2025-10-24T15:25:52.691067Z",
     "iopub.status.idle": "2025-10-24T15:25:54.441005Z",
     "shell.execute_reply": "2025-10-24T15:25:54.440536Z"
    }
   },
   "outputs": [
    {
     "name": "stderr",
     "output_type": "stream",
     "text": [
      "6495.17s - pydevd: Sending message related to process being replaced timed-out after 5 seconds\n"
     ]
    },
    {
     "name": "stdout",
     "output_type": "stream",
     "text": [
      "\n",
      "Starting preprocessing steps...\n",
      "Successfully loaded preprocessor from /Users/dheerajmurthy/Downloads/IIITB/sem6/ML/contest_project/Regularized_Linear_Regression/../PreProcessing/../PreProcessing/fitted_preprocessor.joblib.\n",
      "Data ready. Training data shape: (1195, 292), Test data shape: (260, 292)\n",
      "\n",
      "--- Model Training & Evaluation (Lasso Optimization / L1 Regularization) ---\n",
      "Validation R-squared (Log-transformed): 0.9204\n",
      "Validation Mean Squared Error (Log-transformed): 0.0123\n",
      "Validation RMSE (Original Scale): 21315.9373\n",
      "\n",
      "Fitting final production model on ALL training data...\n",
      "Final trained Lasso model saved to 'fitted_lasso_model.joblib'.\n"
     ]
    }
   ],
   "source": [
    "!python Regularized_Linear_Regression/model_regularized_least_square_Lasso.py"
   ]
  },
  {
   "cell_type": "markdown",
   "id": "cec88f2c",
   "metadata": {},
   "source": [
    "## Running model_regularized_least_square_Ridge"
   ]
  },
  {
   "cell_type": "code",
   "execution_count": 132,
   "id": "9204212a",
   "metadata": {
    "execution": {
     "iopub.execute_input": "2025-10-24T15:25:54.443156Z",
     "iopub.status.busy": "2025-10-24T15:25:54.442967Z",
     "iopub.status.idle": "2025-10-24T15:25:56.162775Z",
     "shell.execute_reply": "2025-10-24T15:25:56.162311Z"
    }
   },
   "outputs": [
    {
     "name": "stderr",
     "output_type": "stream",
     "text": [
      "6502.49s - pydevd: Sending message related to process being replaced timed-out after 5 seconds\n"
     ]
    },
    {
     "name": "stdout",
     "output_type": "stream",
     "text": [
      "\n",
      "Starting preprocessing steps...\n",
      "Successfully loaded preprocessor from /Users/dheerajmurthy/Downloads/IIITB/sem6/ML/contest_project/Regularized_Linear_Regression/../PreProcessing/../PreProcessing/fitted_preprocessor.joblib.\n",
      "Data ready. Training data shape: (1195, 292), Test data shape: (260, 292)\n",
      "\n",
      "--- Model Training & Evaluation (Ridge Optimization / L2 Regularization) ---\n",
      "Validation R-squared (Log-transformed): 0.9261\n",
      "Validation Mean Squared Error (Log-transformed): 0.0114\n",
      "Validation RMSE (Original Scale): 20071.4115\n",
      "\n",
      "Fitting final production model on ALL training data...\n",
      "Final trained Ridge model saved to 'fitted_ridge_model.joblib'.\n"
     ]
    }
   ],
   "source": [
    "!python Regularized_Linear_Regression/model_regularized_least_square_Ridge.py"
   ]
  },
  {
   "cell_type": "markdown",
   "id": "747b319d",
   "metadata": {},
   "source": [
    "## Running model_regularized_least_squares_ElasticNet"
   ]
  },
  {
   "cell_type": "code",
   "execution_count": 133,
   "id": "15c47d52",
   "metadata": {
    "execution": {
     "iopub.execute_input": "2025-10-24T15:25:56.165281Z",
     "iopub.status.busy": "2025-10-24T15:25:56.165090Z",
     "iopub.status.idle": "2025-10-24T15:25:57.891413Z",
     "shell.execute_reply": "2025-10-24T15:25:57.890990Z"
    }
   },
   "outputs": [
    {
     "name": "stderr",
     "output_type": "stream",
     "text": [
      "6509.71s - pydevd: Sending message related to process being replaced timed-out after 5 seconds\n"
     ]
    },
    {
     "name": "stdout",
     "output_type": "stream",
     "text": [
      "\n",
      "Starting preprocessing steps...\n",
      "Successfully loaded preprocessor from /Users/dheerajmurthy/Downloads/IIITB/sem6/ML/contest_project/Regularized_Linear_Regression/../PreProcessing/../PreProcessing/fitted_preprocessor.joblib.\n",
      "Data ready. Training data shape: (1195, 292), Test data shape: (260, 292)\n",
      "\n",
      "--- Model Training & Evaluation (ElasticNet Optimization / L1+L2 Regularization) ---\n",
      "Validation R-squared (Log-transformed): 0.8956\n",
      "Validation Mean Squared Error (Log-transformed): 0.0161\n",
      "Validation RMSE (Original Scale): 26671.3257\n",
      "\n",
      "Fitting final production model on ALL training data...\n",
      "Final trained ElasticNet model saved to 'fitted_elasticnet_model.joblib'.\n"
     ]
    }
   ],
   "source": [
    "!python Regularized_Linear_Regression/model_regularized_least_squares_ElasticNet.py"
   ]
  },
  {
   "cell_type": "markdown",
   "id": "eb1bef94",
   "metadata": {},
   "source": [
    "## Running model_xgboost"
   ]
  },
  {
   "cell_type": "code",
   "execution_count": 143,
   "id": "973ef552",
   "metadata": {
    "execution": {
     "iopub.execute_input": "2025-10-24T15:25:57.893560Z",
     "iopub.status.busy": "2025-10-24T15:25:57.893378Z",
     "iopub.status.idle": "2025-10-24T15:26:00.915734Z",
     "shell.execute_reply": "2025-10-24T15:26:00.915294Z"
    }
   },
   "outputs": [
    {
     "name": "stderr",
     "output_type": "stream",
     "text": [
      "8886.63s - pydevd: Sending message related to process being replaced timed-out after 5 seconds\n"
     ]
    },
    {
     "name": "stdout",
     "output_type": "stream",
     "text": [
      "\n",
      "--- XGBoost Regressor Results ---\n",
      "Training R²: 0.9773\n",
      "Validation R²: 0.8775\n",
      "Validation RMSE: 29296.0024\n",
      "Submission file 'submission_xgboost.csv' created successfully.\n"
     ]
    }
   ],
   "source": [
    "!python XGboost/xgboost_model.py"
   ]
  },
  {
   "cell_type": "markdown",
   "id": "13e9a5c9",
   "metadata": {},
   "source": [
    "## Running model_gaussian"
   ]
  },
  {
   "cell_type": "code",
   "execution_count": 135,
   "id": "ad85fac8",
   "metadata": {
    "execution": {
     "iopub.execute_input": "2025-10-24T15:26:00.917967Z",
     "iopub.status.busy": "2025-10-24T15:26:00.917775Z",
     "iopub.status.idle": "2025-10-24T15:26:04.260357Z",
     "shell.execute_reply": "2025-10-24T15:26:04.259912Z"
    }
   },
   "outputs": [
    {
     "name": "stderr",
     "output_type": "stream",
     "text": [
      "6714.12s - pydevd: Sending message related to process being replaced timed-out after 5 seconds\n"
     ]
    },
    {
     "name": "stdout",
     "output_type": "stream",
     "text": [
      "Optimized Kernel: 1.14**2 * RBF(length_scale=23.8) + WhiteKernel(noise_level=0.0366)\n",
      "Validation RMSE: 28094.3604\n",
      "Mean uncertainty (σ): 26049.4959\n",
      "Figure(1000x600)\n",
      "✅ Submission saved as 'submission_gaussian_process.csv'\n"
     ]
    }
   ],
   "source": [
    "!python model_gaussian.py"
   ]
  },
  {
   "cell_type": "markdown",
   "id": "bd3725a7",
   "metadata": {},
   "source": [
    "## Running model_lightgbm"
   ]
  },
  {
   "cell_type": "code",
   "execution_count": 136,
   "id": "b641b70c",
   "metadata": {
    "execution": {
     "iopub.execute_input": "2025-10-24T15:26:04.262643Z",
     "iopub.status.busy": "2025-10-24T15:26:04.262452Z",
     "iopub.status.idle": "2025-10-24T15:26:06.527286Z",
     "shell.execute_reply": "2025-10-24T15:26:06.526807Z"
    }
   },
   "outputs": [
    {
     "name": "stderr",
     "output_type": "stream",
     "text": [
      "6736.33s - pydevd: Sending message related to process being replaced timed-out after 5 seconds\n"
     ]
    },
    {
     "name": "stdout",
     "output_type": "stream",
     "text": [
      "[LightGBM] [Info] Auto-choosing row-wise multi-threading, the overhead of testing was 0.001722 seconds.\n",
      "You can set `force_row_wise=true` to remove the overhead.\n",
      "And if memory is not enough, you can set `force_col_wise=true`.\n",
      "[LightGBM] [Info] Total Bins 2955\n",
      "[LightGBM] [Info] Number of data points in the train set: 960, number of used features: 74\n",
      "[LightGBM] [Info] Start training from score 180232.330208\n",
      "[LightGBM] [Warning] No further splits with positive gain, best gain: -inf\n",
      "[LightGBM] [Warning] No further splits with positive gain, best gain: -inf\n",
      "[LightGBM] [Warning] No further splits with positive gain, best gain: -inf\n",
      "[LightGBM] [Warning] No further splits with positive gain, best gain: -inf\n",
      "[LightGBM] [Warning] No further splits with positive gain, best gain: -inf\n",
      "[LightGBM] [Warning] No further splits with positive gain, best gain: -inf\n",
      "[LightGBM] [Warning] No further splits with positive gain, best gain: -inf\n",
      "[LightGBM] [Warning] No further splits with positive gain, best gain: -inf\n",
      "[LightGBM] [Warning] No further splits with positive gain, best gain: -inf\n",
      "[LightGBM] [Warning] No further splits with positive gain, best gain: -inf\n",
      "[LightGBM] [Warning] No further splits with positive gain, best gain: -inf\n",
      "[LightGBM] [Warning] No further splits with positive gain, best gain: -inf\n",
      "[LightGBM] [Warning] No further splits with positive gain, best gain: -inf\n",
      "[LightGBM] [Warning] No further splits with positive gain, best gain: -inf\n",
      "[LightGBM] [Warning] No further splits with positive gain, best gain: -inf\n",
      "[LightGBM] [Warning] No further splits with positive gain, best gain: -inf\n",
      "[LightGBM] [Warning] No further splits with positive gain, best gain: -inf\n",
      "[LightGBM] [Warning] No further splits with positive gain, best gain: -inf\n",
      "[LightGBM] [Warning] No further splits with positive gain, best gain: -inf\n",
      "[LightGBM] [Warning] No further splits with positive gain, best gain: -inf\n",
      "[LightGBM] [Warning] No further splits with positive gain, best gain: -inf\n",
      "[LightGBM] [Warning] No further splits with positive gain, best gain: -inf\n",
      "[LightGBM] [Warning] No further splits with positive gain, best gain: -inf\n",
      "[LightGBM] [Warning] No further splits with positive gain, best gain: -inf\n",
      "[LightGBM] [Warning] No further splits with positive gain, best gain: -inf\n",
      "[LightGBM] [Warning] No further splits with positive gain, best gain: -inf\n",
      "[LightGBM] [Warning] No further splits with positive gain, best gain: -inf\n",
      "[LightGBM] [Warning] No further splits with positive gain, best gain: -inf\n",
      "[LightGBM] [Warning] No further splits with positive gain, best gain: -inf\n",
      "[LightGBM] [Warning] No further splits with positive gain, best gain: -inf\n",
      "[LightGBM] [Warning] No further splits with positive gain, best gain: -inf\n",
      "[LightGBM] [Warning] No further splits with positive gain, best gain: -inf\n",
      "[LightGBM] [Warning] No further splits with positive gain, best gain: -inf\n",
      "[LightGBM] [Warning] No further splits with positive gain, best gain: -inf\n",
      "[LightGBM] [Warning] No further splits with positive gain, best gain: -inf\n",
      "[LightGBM] [Warning] No further splits with positive gain, best gain: -inf\n",
      "[LightGBM] [Warning] No further splits with positive gain, best gain: -inf\n",
      "[LightGBM] [Warning] No further splits with positive gain, best gain: -inf\n",
      "[LightGBM] [Warning] No further splits with positive gain, best gain: -inf\n",
      "[LightGBM] [Warning] No further splits with positive gain, best gain: -inf\n",
      "[LightGBM] [Warning] No further splits with positive gain, best gain: -inf\n",
      "[LightGBM] [Warning] No further splits with positive gain, best gain: -inf\n",
      "[LightGBM] [Warning] No further splits with positive gain, best gain: -inf\n",
      "[LightGBM] [Warning] No further splits with positive gain, best gain: -inf\n",
      "[LightGBM] [Warning] No further splits with positive gain, best gain: -inf\n",
      "[LightGBM] [Warning] No further splits with positive gain, best gain: -inf\n",
      "[LightGBM] [Warning] No further splits with positive gain, best gain: -inf\n",
      "[LightGBM] [Warning] No further splits with positive gain, best gain: -inf\n",
      "[LightGBM] [Warning] No further splits with positive gain, best gain: -inf\n",
      "[LightGBM] [Warning] No further splits with positive gain, best gain: -inf\n",
      "[LightGBM] [Warning] No further splits with positive gain, best gain: -inf\n",
      "[LightGBM] [Warning] No further splits with positive gain, best gain: -inf\n",
      "[LightGBM] [Warning] No further splits with positive gain, best gain: -inf\n",
      "[LightGBM] [Warning] No further splits with positive gain, best gain: -inf\n",
      "[LightGBM] [Warning] No further splits with positive gain, best gain: -inf\n",
      "[LightGBM] [Warning] No further splits with positive gain, best gain: -inf\n",
      "[LightGBM] [Warning] No further splits with positive gain, best gain: -inf\n",
      "[LightGBM] [Warning] No further splits with positive gain, best gain: -inf\n",
      "[LightGBM] [Warning] No further splits with positive gain, best gain: -inf\n",
      "[LightGBM] [Warning] No further splits with positive gain, best gain: -inf\n",
      "[LightGBM] [Warning] No further splits with positive gain, best gain: -inf\n",
      "[LightGBM] [Warning] No further splits with positive gain, best gain: -inf\n",
      "[LightGBM] [Warning] No further splits with positive gain, best gain: -inf\n",
      "[LightGBM] [Warning] No further splits with positive gain, best gain: -inf\n",
      "[LightGBM] [Warning] No further splits with positive gain, best gain: -inf\n",
      "[LightGBM] [Warning] No further splits with positive gain, best gain: -inf\n",
      "[LightGBM] [Warning] No further splits with positive gain, best gain: -inf\n",
      "[LightGBM] [Warning] No further splits with positive gain, best gain: -inf\n",
      "[LightGBM] [Warning] No further splits with positive gain, best gain: -inf\n",
      "[LightGBM] [Warning] No further splits with positive gain, best gain: -inf\n",
      "[LightGBM] [Warning] No further splits with positive gain, best gain: -inf\n",
      "[LightGBM] [Warning] No further splits with positive gain, best gain: -inf\n",
      "[LightGBM] [Warning] No further splits with positive gain, best gain: -inf\n",
      "[LightGBM] [Warning] No further splits with positive gain, best gain: -inf\n",
      "[LightGBM] [Warning] No further splits with positive gain, best gain: -inf\n",
      "[LightGBM] [Warning] No further splits with positive gain, best gain: -inf\n",
      "[LightGBM] [Warning] No further splits with positive gain, best gain: -inf\n",
      "[LightGBM] [Warning] No further splits with positive gain, best gain: -inf\n",
      "[LightGBM] [Warning] No further splits with positive gain, best gain: -inf\n",
      "[LightGBM] [Warning] No further splits with positive gain, best gain: -inf\n",
      "[LightGBM] [Warning] No further splits with positive gain, best gain: -inf\n",
      "[LightGBM] [Warning] No further splits with positive gain, best gain: -inf\n",
      "[LightGBM] [Warning] No further splits with positive gain, best gain: -inf\n",
      "[LightGBM] [Warning] No further splits with positive gain, best gain: -inf\n",
      "[LightGBM] [Warning] No further splits with positive gain, best gain: -inf\n",
      "[LightGBM] [Warning] No further splits with positive gain, best gain: -inf\n",
      "[LightGBM] [Warning] No further splits with positive gain, best gain: -inf\n",
      "[LightGBM] [Warning] No further splits with positive gain, best gain: -inf\n",
      "[LightGBM] [Warning] No further splits with positive gain, best gain: -inf\n",
      "[LightGBM] [Warning] No further splits with positive gain, best gain: -inf\n",
      "[LightGBM] [Warning] No further splits with positive gain, best gain: -inf\n",
      "[LightGBM] [Warning] No further splits with positive gain, best gain: -inf\n",
      "[LightGBM] [Warning] No further splits with positive gain, best gain: -inf\n",
      "[LightGBM] [Warning] No further splits with positive gain, best gain: -inf\n",
      "[LightGBM] [Warning] No further splits with positive gain, best gain: -inf\n",
      "[LightGBM] [Warning] No further splits with positive gain, best gain: -inf\n",
      "[LightGBM] [Warning] No further splits with positive gain, best gain: -inf\n",
      "[LightGBM] [Warning] No further splits with positive gain, best gain: -inf\n",
      "[LightGBM] [Warning] No further splits with positive gain, best gain: -inf\n",
      "[LightGBM] [Warning] No further splits with positive gain, best gain: -inf\n",
      "[LightGBM] [Warning] No further splits with positive gain, best gain: -inf\n",
      "[LightGBM] [Warning] No further splits with positive gain, best gain: -inf\n",
      "[LightGBM] [Warning] No further splits with positive gain, best gain: -inf\n",
      "[LightGBM] [Warning] No further splits with positive gain, best gain: -inf\n",
      "[LightGBM] [Warning] No further splits with positive gain, best gain: -inf\n",
      "[LightGBM] [Warning] No further splits with positive gain, best gain: -inf\n",
      "[LightGBM] [Warning] No further splits with positive gain, best gain: -inf\n",
      "[LightGBM] [Warning] No further splits with positive gain, best gain: -inf\n",
      "[LightGBM] [Warning] No further splits with positive gain, best gain: -inf\n",
      "[LightGBM] [Warning] No further splits with positive gain, best gain: -inf\n",
      "[LightGBM] [Warning] No further splits with positive gain, best gain: -inf\n",
      "[LightGBM] [Warning] No further splits with positive gain, best gain: -inf\n",
      "[LightGBM] [Warning] No further splits with positive gain, best gain: -inf\n",
      "[LightGBM] [Warning] No further splits with positive gain, best gain: -inf\n",
      "[LightGBM] [Warning] No further splits with positive gain, best gain: -inf\n",
      "[LightGBM] [Warning] No further splits with positive gain, best gain: -inf\n",
      "[LightGBM] [Warning] No further splits with positive gain, best gain: -inf\n",
      "[LightGBM] [Warning] No further splits with positive gain, best gain: -inf\n",
      "[LightGBM] [Warning] No further splits with positive gain, best gain: -inf\n",
      "[LightGBM] [Warning] No further splits with positive gain, best gain: -inf\n",
      "[LightGBM] [Warning] No further splits with positive gain, best gain: -inf\n",
      "[LightGBM] [Warning] No further splits with positive gain, best gain: -inf\n",
      "[LightGBM] [Warning] No further splits with positive gain, best gain: -inf\n",
      "[LightGBM] [Warning] No further splits with positive gain, best gain: -inf\n",
      "[LightGBM] [Warning] No further splits with positive gain, best gain: -inf\n",
      "[LightGBM] [Warning] No further splits with positive gain, best gain: -inf\n",
      "[LightGBM] [Warning] No further splits with positive gain, best gain: -inf\n",
      "[LightGBM] [Warning] No further splits with positive gain, best gain: -inf\n",
      "[LightGBM] [Warning] No further splits with positive gain, best gain: -inf\n",
      "[LightGBM] [Warning] No further splits with positive gain, best gain: -inf\n",
      "[LightGBM] [Warning] No further splits with positive gain, best gain: -inf\n",
      "[LightGBM] [Warning] No further splits with positive gain, best gain: -inf\n",
      "[LightGBM] [Warning] No further splits with positive gain, best gain: -inf\n",
      "[LightGBM] [Warning] No further splits with positive gain, best gain: -inf\n",
      "[LightGBM] [Warning] No further splits with positive gain, best gain: -inf\n",
      "[LightGBM] [Warning] No further splits with positive gain, best gain: -inf\n",
      "[LightGBM] [Warning] No further splits with positive gain, best gain: -inf\n",
      "[LightGBM] [Warning] No further splits with positive gain, best gain: -inf\n",
      "[LightGBM] [Warning] No further splits with positive gain, best gain: -inf\n",
      "[LightGBM] [Warning] No further splits with positive gain, best gain: -inf\n",
      "[LightGBM] [Warning] No further splits with positive gain, best gain: -inf\n",
      "[LightGBM] [Warning] No further splits with positive gain, best gain: -inf\n",
      "[LightGBM] [Warning] No further splits with positive gain, best gain: -inf\n",
      "[LightGBM] [Warning] No further splits with positive gain, best gain: -inf\n",
      "[LightGBM] [Warning] No further splits with positive gain, best gain: -inf\n",
      "[LightGBM] [Warning] No further splits with positive gain, best gain: -inf\n",
      "[LightGBM] [Warning] No further splits with positive gain, best gain: -inf\n",
      "[LightGBM] [Warning] No further splits with positive gain, best gain: -inf\n",
      "[LightGBM] [Warning] No further splits with positive gain, best gain: -inf\n",
      "[LightGBM] [Warning] No further splits with positive gain, best gain: -inf\n",
      "[LightGBM] [Warning] No further splits with positive gain, best gain: -inf\n",
      "[LightGBM] [Warning] No further splits with positive gain, best gain: -inf\n",
      "[LightGBM] [Warning] No further splits with positive gain, best gain: -inf\n",
      "[LightGBM] [Warning] No further splits with positive gain, best gain: -inf\n",
      "[LightGBM] [Warning] No further splits with positive gain, best gain: -inf\n",
      "[LightGBM] [Warning] No further splits with positive gain, best gain: -inf\n",
      "[LightGBM] [Warning] No further splits with positive gain, best gain: -inf\n",
      "[LightGBM] [Warning] No further splits with positive gain, best gain: -inf\n",
      "[LightGBM] [Warning] No further splits with positive gain, best gain: -inf\n",
      "[LightGBM] [Warning] No further splits with positive gain, best gain: -inf\n",
      "[LightGBM] [Warning] No further splits with positive gain, best gain: -inf\n",
      "[LightGBM] [Warning] No further splits with positive gain, best gain: -inf\n",
      "[LightGBM] [Warning] No further splits with positive gain, best gain: -inf\n",
      "[LightGBM] [Warning] No further splits with positive gain, best gain: -inf\n",
      "[LightGBM] [Warning] No further splits with positive gain, best gain: -inf\n",
      "[LightGBM] [Warning] No further splits with positive gain, best gain: -inf\n",
      "[LightGBM] [Warning] No further splits with positive gain, best gain: -inf\n",
      "[LightGBM] [Warning] No further splits with positive gain, best gain: -inf\n",
      "[LightGBM] [Warning] No further splits with positive gain, best gain: -inf\n",
      "[LightGBM] [Warning] No further splits with positive gain, best gain: -inf\n",
      "[LightGBM] [Warning] No further splits with positive gain, best gain: -inf\n",
      "[LightGBM] [Warning] No further splits with positive gain, best gain: -inf\n",
      "[LightGBM] [Warning] No further splits with positive gain, best gain: -inf\n",
      "[LightGBM] [Warning] No further splits with positive gain, best gain: -inf\n",
      "[LightGBM] [Warning] No further splits with positive gain, best gain: -inf\n",
      "[LightGBM] [Warning] No further splits with positive gain, best gain: -inf\n",
      "[LightGBM] [Warning] No further splits with positive gain, best gain: -inf\n",
      "[LightGBM] [Warning] No further splits with positive gain, best gain: -inf\n",
      "[LightGBM] [Warning] No further splits with positive gain, best gain: -inf\n",
      "[LightGBM] [Warning] No further splits with positive gain, best gain: -inf\n",
      "[LightGBM] [Warning] No further splits with positive gain, best gain: -inf\n",
      "[LightGBM] [Warning] No further splits with positive gain, best gain: -inf\n",
      "[LightGBM] [Warning] No further splits with positive gain, best gain: -inf\n",
      "[LightGBM] [Warning] No further splits with positive gain, best gain: -inf\n",
      "[LightGBM] [Warning] No further splits with positive gain, best gain: -inf\n",
      "[LightGBM] [Warning] No further splits with positive gain, best gain: -inf\n",
      "[LightGBM] [Warning] No further splits with positive gain, best gain: -inf\n",
      "[LightGBM] [Warning] No further splits with positive gain, best gain: -inf\n",
      "[LightGBM] [Warning] No further splits with positive gain, best gain: -inf\n",
      "[LightGBM] [Warning] No further splits with positive gain, best gain: -inf\n",
      "[LightGBM] [Warning] No further splits with positive gain, best gain: -inf\n",
      "[LightGBM] [Warning] No further splits with positive gain, best gain: -inf\n",
      "[LightGBM] [Warning] No further splits with positive gain, best gain: -inf\n",
      "[LightGBM] [Warning] No further splits with positive gain, best gain: -inf\n",
      "[LightGBM] [Warning] No further splits with positive gain, best gain: -inf\n",
      "[LightGBM] [Warning] No further splits with positive gain, best gain: -inf\n",
      "[LightGBM] [Warning] No further splits with positive gain, best gain: -inf\n",
      "[LightGBM] [Warning] No further splits with positive gain, best gain: -inf\n",
      "[LightGBM] [Warning] No further splits with positive gain, best gain: -inf\n",
      "[LightGBM] [Warning] No further splits with positive gain, best gain: -inf\n",
      "[LightGBM] [Warning] No further splits with positive gain, best gain: -inf\n",
      "[LightGBM] [Warning] No further splits with positive gain, best gain: -inf\n",
      "[LightGBM] [Warning] No further splits with positive gain, best gain: -inf\n",
      "[LightGBM] [Warning] No further splits with positive gain, best gain: -inf\n",
      "[LightGBM] [Warning] No further splits with positive gain, best gain: -inf\n",
      "[LightGBM] [Warning] No further splits with positive gain, best gain: -inf\n",
      "[LightGBM] [Warning] No further splits with positive gain, best gain: -inf\n",
      "[LightGBM] [Warning] No further splits with positive gain, best gain: -inf\n",
      "[LightGBM] [Warning] No further splits with positive gain, best gain: -inf\n",
      "[LightGBM] [Warning] No further splits with positive gain, best gain: -inf\n",
      "[LightGBM] [Warning] No further splits with positive gain, best gain: -inf\n",
      "[LightGBM] [Warning] No further splits with positive gain, best gain: -inf\n",
      "[LightGBM] [Warning] No further splits with positive gain, best gain: -inf\n",
      "[LightGBM] [Warning] No further splits with positive gain, best gain: -inf\n",
      "[LightGBM] [Warning] No further splits with positive gain, best gain: -inf\n",
      "[LightGBM] [Warning] No further splits with positive gain, best gain: -inf\n",
      "[LightGBM] [Warning] No further splits with positive gain, best gain: -inf\n",
      "[LightGBM] [Warning] No further splits with positive gain, best gain: -inf\n",
      "[LightGBM] [Warning] No further splits with positive gain, best gain: -inf\n",
      "[LightGBM] [Warning] No further splits with positive gain, best gain: -inf\n",
      "[LightGBM] [Warning] No further splits with positive gain, best gain: -inf\n",
      "[LightGBM] [Warning] No further splits with positive gain, best gain: -inf\n",
      "[LightGBM] [Warning] No further splits with positive gain, best gain: -inf\n",
      "[LightGBM] [Warning] No further splits with positive gain, best gain: -inf\n",
      "[LightGBM] [Warning] No further splits with positive gain, best gain: -inf\n",
      "[LightGBM] [Warning] No further splits with positive gain, best gain: -inf\n",
      "[LightGBM] [Warning] No further splits with positive gain, best gain: -inf\n",
      "[LightGBM] [Warning] No further splits with positive gain, best gain: -inf\n",
      "[LightGBM] [Warning] No further splits with positive gain, best gain: -inf\n",
      "[LightGBM] [Warning] No further splits with positive gain, best gain: -inf\n",
      "[LightGBM] [Warning] No further splits with positive gain, best gain: -inf\n",
      "[LightGBM] [Warning] No further splits with positive gain, best gain: -inf\n",
      "[LightGBM] [Warning] No further splits with positive gain, best gain: -inf\n",
      "[LightGBM] [Warning] No further splits with positive gain, best gain: -inf\n",
      "[LightGBM] [Warning] No further splits with positive gain, best gain: -inf\n",
      "[LightGBM] [Warning] No further splits with positive gain, best gain: -inf\n",
      "[LightGBM] [Warning] No further splits with positive gain, best gain: -inf\n",
      "[LightGBM] [Warning] No further splits with positive gain, best gain: -inf\n",
      "[LightGBM] [Warning] No further splits with positive gain, best gain: -inf\n",
      "[LightGBM] [Warning] No further splits with positive gain, best gain: -inf\n",
      "[LightGBM] [Warning] No further splits with positive gain, best gain: -inf\n",
      "[LightGBM] [Warning] No further splits with positive gain, best gain: -inf\n",
      "[LightGBM] [Warning] No further splits with positive gain, best gain: -inf\n",
      "[LightGBM] [Warning] No further splits with positive gain, best gain: -inf\n",
      "[LightGBM] [Warning] No further splits with positive gain, best gain: -inf\n",
      "[LightGBM] [Warning] No further splits with positive gain, best gain: -inf\n",
      "[LightGBM] [Warning] No further splits with positive gain, best gain: -inf\n",
      "[LightGBM] [Warning] No further splits with positive gain, best gain: -inf\n",
      "[LightGBM] [Warning] No further splits with positive gain, best gain: -inf\n",
      "[LightGBM] [Warning] No further splits with positive gain, best gain: -inf\n",
      "[LightGBM] [Warning] No further splits with positive gain, best gain: -inf\n",
      "[LightGBM] [Warning] No further splits with positive gain, best gain: -inf\n",
      "Best iteration: 202\n",
      "Training R-squared: 0.9634165271970979\n",
      "Validation R-squared: 0.8940697366158182\n",
      "Validation Mean Squared Error: 742034271.7866007\n",
      "Submission file 'submission_lightgbm.csv' created successfully.\n"
     ]
    }
   ],
   "source": [
    "!python model_lightgbm.py"
   ]
  },
  {
   "cell_type": "code",
   "execution_count": 144,
   "id": "b49f06c9",
   "metadata": {},
   "outputs": [
    {
     "name": "stderr",
     "output_type": "stream",
     "text": [
      "9629.63s - pydevd: Sending message related to process being replaced timed-out after 5 seconds\n"
     ]
    },
    {
     "name": "stdout",
     "output_type": "stream",
     "text": [
      "model_adaboost.py,AdaBoostRegressor,33193.78822692623\n",
      "model_catboost.py,CatBoostRegressor,26503.92669091654\n",
      "model_full_linear.py,LinearRegression,21327.46116655798\n",
      "model_random_forest.py,RandomForestRegressor,29172.589817143024\n",
      "model_regularized_least_square_Lasso.py,Lasso,21315.93733278469\n",
      "model_regularized_least_square_Ridge.py,Ridge,20071.41149400767\n",
      "model_regularized_least_squares_ElasticNet.py,ElasticNet,26671.325689033536\n",
      "model_gaussian.py,GaussianProcessRegressor,28094.360431685047\n",
      "model_lightgbm.py,LGBMRegressor,27240.30601492209\n",
      "model_xgboost.py,XGBRegressor,5026.310376672836\n",
      "model_xgboost.py,XGBRegressor,5026.310376672836\n",
      "xgboost_model.py,XGBRegressor,29296.002380233367\n",
      "poly_model.py,PolynomialRegression,30305.016956749492\n"
     ]
    }
   ],
   "source": [
    "!cat results.csv"
   ]
  }
 ],
 "metadata": {
  "kernelspec": {
   "display_name": "catboost_env",
   "language": "python",
   "name": "python3"
  },
  "language_info": {
   "codemirror_mode": {
    "name": "ipython",
    "version": 3
   },
   "file_extension": ".py",
   "mimetype": "text/x-python",
   "name": "python",
   "nbconvert_exporter": "python",
   "pygments_lexer": "ipython3",
   "version": "3.12.12"
  }
 },
 "nbformat": 4,
 "nbformat_minor": 5
}
